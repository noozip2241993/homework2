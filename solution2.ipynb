{
 "metadata": {
  "language_info": {
   "codemirror_mode": {
    "name": "ipython",
    "version": 3
   },
   "file_extension": ".py",
   "mimetype": "text/x-python",
   "name": "python",
   "nbconvert_exporter": "python",
   "pygments_lexer": "ipython3",
   "version": "3.8.5-final"
  },
  "orig_nbformat": 2,
  "kernelspec": {
   "name": "python_defaultSpec_1599772376854",
   "display_name": "Python 3.8.5 64-bit"
  }
 },
 "nbformat": 4,
 "nbformat_minor": 2,
 "cells": [
  {
   "source": [
    "# Solutions"
   ],
   "cell_type": "markdown",
   "metadata": {}
  },
  {
   "source": [
    "## Solution 1"
   ],
   "cell_type": "markdown",
   "metadata": {}
  },
  {
   "cell_type": "code",
   "execution_count": 44,
   "metadata": {
    "tags": []
   },
   "outputs": [
    {
     "output_type": "stream",
     "name": "stdout",
     "text": "Number          Square          Cube\n     0               0             0\n     1               1             1\n     2               4             8\n     3               9            27\n     4              16            64\n     5              25           125\n"
    }
   ],
   "source": [
    "num1 = 0\n",
    "num2 = 1\n",
    "num3 = 2\n",
    "num4 = 3\n",
    "num5 = 4\n",
    "num6 = 5\n",
    "print(\"Number          Square          Cube\")\n",
    "print(\"    \",num1,\"             \",num1*num1, \"           \",num1*num1*num1)\n",
    "print(\"    \",num2,\"             \",num2*num2, \"           \",num2*num2*num2)\n",
    "print(\"    \",num3,\"             \",num3*num3, \"           \",num3*num3*num3)\n",
    "print(\"    \",num4,\"             \",num4*num4, \"          \",num4*num4*num4)\n",
    "print(\"    \",num5,\"            \",num5*num5, \"          \",num5*num5*num5)\n",
    "print(\"    \",num6,\"            \",num6*num6, \"         \",num6*num6*num6)"
   ]
  },
  {
   "source": [
    "\n",
    "print(\"Number     Square      Cube\")\n",
    "i = 0\n",
    "while i<=5:\n",
    "    print(\"{:>6d}{:>11d}{:>10d}\".format(i,i*i,i*i*i))\n",
    "    i+=1"
   ],
   "cell_type": "code",
   "metadata": {
    "tags": []
   },
   "execution_count": 41,
   "outputs": [
    {
     "output_type": "stream",
     "name": "stdout",
     "text": "Number     Square      Cube\n     0          0         0\n     1          1         1\n     2          4         8\n     3          9        27\n     4         16        64\n     5         25       125\n"
    }
   ]
  },
  {
   "source": [
    "## Solution 2"
   ],
   "cell_type": "markdown",
   "metadata": {}
  },
  {
   "source": [
    "tem1 = -40\n",
    "tem2 = 0\n",
    "tem3 = 40\n",
    "tem4 = 100\n",
    "\n",
    "print(\"Convert celsius value of -40 to a Fahrenheit temperature is \", (9/5*tem1)+32)\n",
    "print(\"Convert celsius value of 0 to a Fahrenheit temperature is \", (9/5*tem2)+32)\n",
    "print(\"Convert celsius value of 40 to a Fahrenheit temperature is \", (9/5*tem3)+32)\n",
    "print(\"Convert celsius value of 100 to a Fahrenheit temperature is \", (9/5*tem4)+32)"
   ],
   "cell_type": "code",
   "metadata": {
    "tags": []
   },
   "execution_count": 40,
   "outputs": [
    {
     "output_type": "stream",
     "name": "stdout",
     "text": "Convert celsius value of -40 to a Fahrenheit temperature is  -40.0\nConvert celsius value of 0 to a Fahrenheit temperature is  32.0\nConvert celsius value of 40 to a Fahrenheit temperature is  104.0\nConvert celsius value of 100 to a Fahrenheit temperature is  212.0\n"
    }
   ]
  },
  {
   "source": [
    "## Solution 3"
   ],
   "cell_type": "markdown",
   "metadata": {}
  },
  {
   "source": [
    "num1 = int(input(\"Enter the first integer: \"))\n",
    "num2 = int(input(\"Enter the second integer: \"))\n",
    "num3 = int(input(\"Enter the third integer: \"))\n",
    "Sum = num1 + num2 + num3\n",
    "Average = round(float((num1+num2+num3)/3),2)\n",
    "print(\"The sum is\", Sum)\n",
    "print(\"The average is\", Average)"
   ],
   "cell_type": "code",
   "metadata": {
    "tags": []
   },
   "execution_count": 43,
   "outputs": [
    {
     "output_type": "stream",
     "name": "stdout",
     "text": "The sum is 7000\nThe average is 2333.33\n"
    }
   ]
  }
 ]
}