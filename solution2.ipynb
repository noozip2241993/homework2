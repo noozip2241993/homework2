{
 "metadata": {
  "language_info": {
   "codemirror_mode": {
    "name": "ipython",
    "version": 3
   },
   "file_extension": ".py",
   "mimetype": "text/x-python",
   "name": "python",
   "nbconvert_exporter": "python",
   "pygments_lexer": "ipython3",
   "version": "3.8.5-final"
  },
  "orig_nbformat": 2,
  "kernelspec": {
   "name": "python_defaultSpec_1600282714458",
   "display_name": "Python 3.8.5 64-bit"
  }
 },
 "nbformat": 4,
 "nbformat_minor": 2,
 "cells": [
  {
   "source": [
    "# Solutions"
   ],
   "cell_type": "markdown",
   "metadata": {}
  },
  {
   "source": [
    "## Solution 1"
   ],
   "cell_type": "markdown",
   "metadata": {}
  },
  {
   "cell_type": "code",
   "execution_count": 1,
   "metadata": {
    "tags": []
   },
   "outputs": [
    {
     "output_type": "stream",
     "name": "stdout",
     "text": "Number              Square              Cube                \n     0                   0                 0\n     1                   1                 1\n     2                   4                 8\n     3                   9                27\n     4                  16                64\n     5                  25               125\n"
    }
   ],
   "source": [
    "numb =0\n",
    "numb1=1\n",
    "numb2=2\n",
    "numb3=3\n",
    "numb4=4\n",
    "numb5=5\n",
    "print(f'{\"Number\":20}{\"Square\":20}{\"Cube\":20}')\n",
    "print(f'{numb:6}{numb*numb:20}{numb*numb*numb:18}')\n",
    "print(f'{numb1:6}{numb1*numb1:20}{numb1*numb1*numb1:18}')\n",
    "print(f'{numb2:6}{numb2*numb2:20}{numb2*numb2*numb2:18}')\n",
    "print(f'{numb3:6}{numb3*numb3:20}{numb3*numb3*numb3:18}')\n",
    "print(f'{numb4:6}{numb4*numb4:20}{numb4*numb4*numb4:18}')\n",
    "print(f'{numb5:6}{numb5*numb5:20}{numb5*numb5*numb5:18}')"
   ]
  },
  {
   "source": [
    "## Solution 2"
   ],
   "cell_type": "markdown",
   "metadata": {}
  },
  {
   "source": [
    "tem1 = -40\n",
    "tem2 = 0\n",
    "tem3 = 40\n",
    "tem4 = 100\n",
    "\n",
    "print(f\"Convert celsius value of -40 to a Fahrenheit temperature is {9/5*tem1+32:.0f}\")\n",
    "print(f\"Convert celsius value of -40 to a Fahrenheit temperature is {9/5*tem2+32:.0f}\")\n",
    "print(f\"Convert celsius value of -40 to a Fahrenheit temperature is {9/5*tem3+32:.0f}\")\n",
    "print(f\"Convert celsius value of -40 to a Fahrenheit temperature is {9/5*tem4+32:.0f}\")"
   ],
   "cell_type": "code",
   "metadata": {
    "tags": []
   },
   "execution_count": 26,
   "outputs": [
    {
     "output_type": "stream",
     "name": "stdout",
     "text": "Convert celsius value of -40 to a Fahrenheit temperature is -40\nConvert celsius value of -40 to a Fahrenheit temperature is 32\nConvert celsius value of -40 to a Fahrenheit temperature is 104\nConvert celsius value of -40 to a Fahrenheit temperature is 212\n"
    }
   ]
  },
  {
   "source": [
    "## Solution 3"
   ],
   "cell_type": "markdown",
   "metadata": {}
  },
  {
   "source": [
    "num1 = int(input(\"Enter the first integer: \"))\n",
    "num2 = int(input(\"Enter the second integer: \"))\n",
    "num3 = int(input(\"Enter the third integer: \"))\n",
    "Sum = num1 + num2 + num3\n",
    "Average = float((num1+num2+num3)/3)\n",
    "print(f\"The sum is {Sum:,d}\")\n",
    "print(f\"The average is {Average:,.2f}\")"
   ],
   "cell_type": "code",
   "metadata": {
    "tags": []
   },
   "execution_count": 41,
   "outputs": [
    {
     "output_type": "stream",
     "name": "stdout",
     "text": "The sum is 7,000\nThe average is 2,333.33\n"
    }
   ]
  },
  {
   "cell_type": "code",
   "execution_count": null,
   "metadata": {},
   "outputs": [],
   "source": []
  }
 ]
}